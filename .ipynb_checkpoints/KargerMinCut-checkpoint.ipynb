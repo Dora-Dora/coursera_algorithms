{
 "cells": [
  {
   "cell_type": "code",
   "execution_count": 323,
   "metadata": {
    "collapsed": true
   },
   "outputs": [],
   "source": [
    "import numpy as np\n",
    "import copy\n",
    "import random"
   ]
  },
  {
   "cell_type": "code",
   "execution_count": 415,
   "metadata": {
    "collapsed": true
   },
   "outputs": [],
   "source": [
    "def chooseRow(GR,a):\n",
    "    for ii in range(len(GR)):\n",
    "        if a in GR[ii][0]:\n",
    "            return ii  "
   ]
  },
  {
   "cell_type": "code",
   "execution_count": 416,
   "metadata": {
    "collapsed": true
   },
   "outputs": [],
   "source": [
    "def MinCut(G):\n",
    "    '''\n",
    "    G is a list of list.\n",
    "    The first element of each inner list is the vertex \n",
    "    as a list, in order to merge later,\n",
    "    The rest elements are the adjacent vertices to the first element\n",
    "    '''\n",
    "    GR = copy.deepcopy(G)\n",
    "    while len(GR) > 2:\n",
    "        # choose an edge randomly\n",
    "        r = np.random.randint(len(GR))\n",
    "        c = random.choice(GR[r][1:])\n",
    "        c = chooseRow(GR,c)\n",
    "        GR[r][0] = GR[r][0]+GR[c][0]\n",
    "        GR[r][1:] = list(set(GR[r][1:]+GR[c][1:])-set(GR[r][0]))\n",
    "        del GR[c]\n",
    "    return GR     "
   ]
  },
  {
   "cell_type": "code",
   "execution_count": 417,
   "metadata": {
    "collapsed": true
   },
   "outputs": [],
   "source": [
    "def CountCut(A,B,G):\n",
    "    '''\n",
    "    Given two sets of vertices, find the number of edges\n",
    "    between them according to the graph G\n",
    "    '''\n",
    "    As = set(A)\n",
    "    Bs = set(B)\n",
    "    cut = 0\n",
    "    for a in As:\n",
    "        cut += len(set(G[a-1][1:]).intersection(Bs))\n",
    "    return cut"
   ]
  },
  {
   "cell_type": "code",
   "execution_count": 418,
   "metadata": {
    "collapsed": false
   },
   "outputs": [
    {
     "data": {
      "text/plain": [
       "[[[1], 2, 3], [[2], 1, 3, 4], [[3], 1, 2, 4], [[4], 2, 3]]"
      ]
     },
     "execution_count": 418,
     "metadata": {},
     "output_type": "execute_result"
    }
   ],
   "source": [
    "G = [[1,2,3],[2,1,3,4],[3,1,2,4],[4,2,3]]\n",
    "for ii in range(len(G)):\n",
    "    G[ii][0] = [G[ii][0]]\n",
    "# G[0][0] = G[0][0]+G[2][0]\n",
    "# G[0][1:] = list(set(G[0][1:]+G[2][1:])-set(G[0][0]))\n",
    "G"
   ]
  },
  {
   "cell_type": "code",
   "execution_count": 419,
   "metadata": {
    "collapsed": false
   },
   "outputs": [
    {
     "name": "stdout",
     "output_type": "stream",
     "text": [
      "[[[1, 2], 3, 4], [[3, 4], 1, 2]]\n",
      "3\n"
     ]
    }
   ],
   "source": [
    "G_reduced = MinCut(G)\n",
    "print(G_reduced)\n",
    "cut = CountCut(G_reduced[0][0],G_reduced[1][0],G)\n",
    "print(cut)"
   ]
  },
  {
   "cell_type": "markdown",
   "metadata": {},
   "source": [
    "## Test cases"
   ]
  },
  {
   "cell_type": "code",
   "execution_count": 479,
   "metadata": {
    "collapsed": false
   },
   "outputs": [],
   "source": [
    "with open('smallMinCut3.txt','r') as f:\n",
    "    content = f.readlines()\n",
    "content = [x.strip().split() for x in content] \n",
    "content = [map(int,x) for x in content]\n",
    "for r in content:\n",
    "    r[0] = [r[0]]"
   ]
  },
  {
   "cell_type": "code",
   "execution_count": 480,
   "metadata": {
    "collapsed": false
   },
   "outputs": [
    {
     "data": {
      "text/plain": [
       "[[[1], 2, 3, 4],\n",
       " [[2], 1, 3, 4],\n",
       " [[3], 1, 2, 4],\n",
       " [[4], 1, 2, 3, 5],\n",
       " [[5], 4, 6, 7, 8],\n",
       " [[6], 5, 7, 8],\n",
       " [[7], 5, 6, 8],\n",
       " [[8], 5, 6, 7]]"
      ]
     },
     "execution_count": 480,
     "metadata": {},
     "output_type": "execute_result"
    }
   ],
   "source": [
    "content"
   ]
  },
  {
   "cell_type": "code",
   "execution_count": 492,
   "metadata": {
    "collapsed": false
   },
   "outputs": [
    {
     "name": "stdout",
     "output_type": "stream",
     "text": [
      "[[[1, 3, 2, 4, 7, 8, 5], 6], [[6], 5, 7, 8]]\n",
      "3\n"
     ]
    }
   ],
   "source": [
    "G = content\n",
    "G_reduced = MinCut(G)\n",
    "print(G_reduced)\n",
    "cut = CountCut(G_reduced[0][0],G_reduced[1][0],G)\n",
    "print(cut)"
   ]
  },
  {
   "cell_type": "markdown",
   "metadata": {},
   "source": [
    "## Submission"
   ]
  },
  {
   "cell_type": "code",
   "execution_count": 498,
   "metadata": {
    "collapsed": true
   },
   "outputs": [],
   "source": [
    "with open('kargerMinCut.txt','r') as f:\n",
    "    content = f.readlines()\n",
    "content = [x.strip().split('\\t') for x in content] "
   ]
  },
  {
   "cell_type": "code",
   "execution_count": 499,
   "metadata": {
    "collapsed": false
   },
   "outputs": [],
   "source": [
    "content = [map(int,x) for x in content]\n",
    "for r in content:\n",
    "    r[0] = [r[0]]"
   ]
  },
  {
   "cell_type": "code",
   "execution_count": 500,
   "metadata": {
    "collapsed": false
   },
   "outputs": [],
   "source": [
    "G = content\n",
    "cut = []\n",
    "for ii in range(100):\n",
    "    G_reduced = MinCut(G)\n",
    "    cut.append(CountCut(G_reduced[0][0],G_reduced[1][0],G))"
   ]
  },
  {
   "cell_type": "code",
   "execution_count": 501,
   "metadata": {
    "collapsed": false
   },
   "outputs": [
    {
     "data": {
      "text/plain": [
       "17"
      ]
     },
     "execution_count": 501,
     "metadata": {},
     "output_type": "execute_result"
    }
   ],
   "source": [
    "min(cut)"
   ]
  },
  {
   "cell_type": "code",
   "execution_count": null,
   "metadata": {
    "collapsed": true
   },
   "outputs": [],
   "source": []
  }
 ],
 "metadata": {
  "kernelspec": {
   "display_name": "Python 2",
   "language": "python",
   "name": "python2"
  },
  "language_info": {
   "codemirror_mode": {
    "name": "ipython",
    "version": 2
   },
   "file_extension": ".py",
   "mimetype": "text/x-python",
   "name": "python",
   "nbconvert_exporter": "python",
   "pygments_lexer": "ipython2",
   "version": "2.7.12"
  }
 },
 "nbformat": 4,
 "nbformat_minor": 1
}
