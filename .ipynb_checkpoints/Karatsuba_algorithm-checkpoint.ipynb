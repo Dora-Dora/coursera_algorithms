{
 "cells": [
  {
   "cell_type": "code",
   "execution_count": 37,
   "metadata": {
    "collapsed": true
   },
   "outputs": [],
   "source": [
    "def Karatsuba_mult(x,y,base, debug = False):\n",
    "    if (x < base or y < base):\n",
    "        return x*y\n",
    "    n = min(len(str(x)),len(str(y))) / 2\n",
    "    bpn = base**n\n",
    "    if debug:\n",
    "        print bpn\n",
    "    x1 = x / bpn\n",
    "    if debug:\n",
    "        print x1\n",
    "    y1 = y / bpn\n",
    "    if debug:\n",
    "        print y1\n",
    "    x0 = x - x1*bpn\n",
    "    if debug:\n",
    "        print x0\n",
    "    y0 = y - y1*bpn\n",
    "    if debug:\n",
    "        print y0\n",
    "    z2 = Karatsuba_mult(x1,y1,base)\n",
    "    if debug:\n",
    "        print z2\n",
    "    z1 = Karatsuba_mult(x1,y0,base) + Karatsuba_mult(x0,y1,base)\n",
    "    z0 = Karatsuba_mult(x0,y0,base)\n",
    "    return z2*(bpn**2) + z1*bpn + z0"
   ]
  },
  {
   "cell_type": "code",
   "execution_count": 45,
   "metadata": {
    "collapsed": false
   },
   "outputs": [
    {
     "data": {
      "text/plain": [
       "24010125003077966864485729529159557553067440688265053895552900715362892040776018932263952306533755390568862505742644387956388656L"
      ]
     },
     "execution_count": 45,
     "metadata": {},
     "output_type": "execute_result"
    }
   ],
   "source": [
    "Karatsuba_mult(5211986647570828172548043773141856795012425179839383045438476733,\n",
    "               4606712684935304570646997185447986666259678494439329643332680432,10)"
   ]
  },
  {
   "cell_type": "code",
   "execution_count": 46,
   "metadata": {
    "collapsed": false
   },
   "outputs": [
    {
     "data": {
      "text/plain": [
       "24010125003077966864485729529159557553067440688265053895552900715362892040776018932263952306533755390568862505742644387956388656L"
      ]
     },
     "execution_count": 46,
     "metadata": {},
     "output_type": "execute_result"
    }
   ],
   "source": [
    "24010125003077966864485729529159557553067440688265053895552900715362892040776018932263952306533755390568862505742644387956388656"
   ]
  },
  {
   "cell_type": "code",
   "execution_count": 40,
   "metadata": {
    "collapsed": true
   },
   "outputs": [],
   "source": [
    "test_x = 3141592653589793238462643383279502884197169399375105820974944592\n",
    "test_y = 2718281828459045235360287471352662497757247093699959574966967627"
   ]
  },
  {
   "cell_type": "code",
   "execution_count": 41,
   "metadata": {
    "collapsed": false
   },
   "outputs": [
    {
     "data": {
      "text/plain": [
       "8539734222673567065463550869546574495034888535765114961879601127067743044893204848617875072216249073013374895871952806582723184L"
      ]
     },
     "execution_count": 41,
     "metadata": {},
     "output_type": "execute_result"
    }
   ],
   "source": [
    "Karatsuba_mult(test_x,test_y,10)"
   ]
  },
  {
   "cell_type": "code",
   "execution_count": 42,
   "metadata": {
    "collapsed": false
   },
   "outputs": [
    {
     "data": {
      "text/plain": [
       "8539734222673567065463550869546574495034888535765114961879601127067743044893204848617875072216249073013374895871952806582723184L"
      ]
     },
     "execution_count": 42,
     "metadata": {},
     "output_type": "execute_result"
    }
   ],
   "source": [
    "test_x*test_y"
   ]
  },
  {
   "cell_type": "code",
   "execution_count": null,
   "metadata": {
    "collapsed": true
   },
   "outputs": [],
   "source": []
  }
 ],
 "metadata": {
  "kernelspec": {
   "display_name": "Python 2",
   "language": "python",
   "name": "python2"
  },
  "language_info": {
   "codemirror_mode": {
    "name": "ipython",
    "version": 2
   },
   "file_extension": ".py",
   "mimetype": "text/x-python",
   "name": "python",
   "nbconvert_exporter": "python",
   "pygments_lexer": "ipython2",
   "version": "2.7.12"
  }
 },
 "nbformat": 4,
 "nbformat_minor": 1
}
