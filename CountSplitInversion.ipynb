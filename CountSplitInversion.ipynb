{
 "cells": [
  {
   "cell_type": "code",
   "execution_count": 43,
   "metadata": {
    "collapsed": false
   },
   "outputs": [],
   "source": [
    "def Merge_and_CountSplitInv(B,C):\n",
    "    '''\n",
    "    B and C are two sorted array on their own\n",
    "    '''\n",
    "    len_b = len(B)\n",
    "    len_c = len(C)\n",
    "    i = 0\n",
    "    j = 0\n",
    "    D = []\n",
    "    countInv = 0\n",
    "    while (i < len_b or j < len_c):\n",
    "        if (i == len_b):\n",
    "            D.append(C[j])\n",
    "            j += 1\n",
    "        elif (j == len_c):\n",
    "            D.append(B[i])\n",
    "            i += 1\n",
    "        elif (B[i] <= C[j]):\n",
    "            D.append(B[i])\n",
    "            i += 1\n",
    "        elif (B[i] > C[j]):\n",
    "            D.append(C[j])\n",
    "            j += 1\n",
    "            countInv += len_b - i\n",
    "    return D,countInv"
   ]
  },
  {
   "cell_type": "code",
   "execution_count": 83,
   "metadata": {
    "collapsed": false
   },
   "outputs": [],
   "source": [
    "def Count(Arr, n):\n",
    "    '''\n",
    "    Arr is an unsorted array of lenght n\n",
    "    returns the sorted Arr and the number of inversions to perform\n",
    "    '''\n",
    "    if (n == 1): \n",
    "        return Arr,0\n",
    "    else:\n",
    "        B,x = Count(Arr[:(n/2)],n/2)\n",
    "        C,y = Count(Arr[(n/2):],n-n/2)\n",
    "        D,z = Merge_and_CountSplitInv(B,C)\n",
    "    return D,x+y+z"
   ]
  },
  {
   "cell_type": "markdown",
   "metadata": {},
   "source": [
    "### Small tests"
   ]
  },
  {
   "cell_type": "code",
   "execution_count": 84,
   "metadata": {
    "collapsed": false
   },
   "outputs": [
    {
     "data": {
      "text/plain": [
       "([1, 2, 3, 4, 5, 6], 15)"
      ]
     },
     "execution_count": 84,
     "metadata": {},
     "output_type": "execute_result"
    }
   ],
   "source": [
    "B = [2,4]\n",
    "C = [1,3,5]\n",
    "Merge_and_CountSplitInv(B,C)"
   ]
  },
  {
   "cell_type": "code",
   "execution_count": 80,
   "metadata": {
    "collapsed": false
   },
   "outputs": [
    {
     "data": {
      "text/plain": [
       "([1, 2, 3, 4, 5], 3)"
      ]
     },
     "execution_count": 80,
     "metadata": {},
     "output_type": "execute_result"
    }
   ],
   "source": [
    "Arr = [6,5,4,3,2,1]\n",
    "n = len(Arr)\n",
    "Count(Arr,n)"
   ]
  },
  {
   "cell_type": "markdown",
   "metadata": {},
   "source": [
    "### Submission"
   ]
  },
  {
   "cell_type": "code",
   "execution_count": 98,
   "metadata": {
    "collapsed": false
   },
   "outputs": [],
   "source": [
    "text_file = open(\"integerArray.txt\", \"r\")\n",
    "Arr = text_file.read().split()\n",
    "Arr = map(int,Arr)\n",
    "n = len(Arr)"
   ]
  },
  {
   "cell_type": "code",
   "execution_count": 107,
   "metadata": {
    "collapsed": true
   },
   "outputs": [],
   "source": [
    "_,count = Count(Arr,n)"
   ]
  },
  {
   "cell_type": "code",
   "execution_count": 108,
   "metadata": {
    "collapsed": false
   },
   "outputs": [
    {
     "data": {
      "text/plain": [
       "2407905288"
      ]
     },
     "execution_count": 108,
     "metadata": {},
     "output_type": "execute_result"
    }
   ],
   "source": [
    "count"
   ]
  },
  {
   "cell_type": "code",
   "execution_count": null,
   "metadata": {
    "collapsed": true
   },
   "outputs": [],
   "source": []
  }
 ],
 "metadata": {
  "kernelspec": {
   "display_name": "Python 2",
   "language": "python",
   "name": "python2"
  },
  "language_info": {
   "codemirror_mode": {
    "name": "ipython",
    "version": 2
   },
   "file_extension": ".py",
   "mimetype": "text/x-python",
   "name": "python",
   "nbconvert_exporter": "python",
   "pygments_lexer": "ipython2",
   "version": "2.7.12"
  }
 },
 "nbformat": 4,
 "nbformat_minor": 1
}
