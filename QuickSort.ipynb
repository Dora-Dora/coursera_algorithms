{
 "cells": [
  {
   "cell_type": "code",
   "execution_count": 285,
   "metadata": {
    "collapsed": true
   },
   "outputs": [],
   "source": [
    "def ChoosePivot(A,l,r):\n",
    "    m = (l+r-1)/2\n",
    "    mid = sorted([A[l],A[m],A[r-1]])[1]\n",
    "    if (A[l] == mid): return l\n",
    "    elif (A[m] == mid): return m\n",
    "    else: return r-1"
   ]
  },
  {
   "cell_type": "code",
   "execution_count": 287,
   "metadata": {
    "collapsed": false
   },
   "outputs": [],
   "source": [
    "def Partition(A,l,r):\n",
    "    p = A[l]\n",
    "    i = l+1\n",
    "    for j in range(l+1,r):\n",
    "        if A[j] <= p:\n",
    "            A[i], A[j] = A[j], A[i]\n",
    "            i += 1\n",
    "    A[l], A[i-1] = A[i-1], A[l]\n",
    "    return i-1"
   ]
  },
  {
   "cell_type": "code",
   "execution_count": 289,
   "metadata": {
    "collapsed": false
   },
   "outputs": [],
   "source": [
    "def QuickSort(A,l,r):\n",
    "    global count\n",
    "    if r <= l: return\n",
    "    p = ChoosePivot(A,l,r)\n",
    "    A[p], A[l] = A[l], A[p]\n",
    "    j = Partition(A,l,r)\n",
    "    QuickSort(A,l,j)\n",
    "    count += j-l\n",
    "    QuickSort(A,j+1,r)\n",
    "    count += r-(j+1)"
   ]
  },
  {
   "cell_type": "code",
   "execution_count": 291,
   "metadata": {
    "collapsed": true
   },
   "outputs": [],
   "source": [
    "text_file = open(\"quickSort.txt\", \"r\")\n",
    "Arr = text_file.read().split()\n",
    "Arr = map(int,Arr)\n",
    "# Arr = Arr[0:10]\n",
    "n = len(Arr)"
   ]
  },
  {
   "cell_type": "code",
   "execution_count": 292,
   "metadata": {
    "collapsed": false,
    "scrolled": false
   },
   "outputs": [],
   "source": [
    "count = 0\n",
    "QuickSort(Arr,0,len(Arr))"
   ]
  },
  {
   "cell_type": "code",
   "execution_count": 293,
   "metadata": {
    "collapsed": false
   },
   "outputs": [
    {
     "data": {
      "text/plain": [
       "138382"
      ]
     },
     "execution_count": 293,
     "metadata": {},
     "output_type": "execute_result"
    }
   ],
   "source": [
    "count"
   ]
  }
 ],
 "metadata": {
  "kernelspec": {
   "display_name": "Python 2",
   "language": "python",
   "name": "python2"
  },
  "language_info": {
   "codemirror_mode": {
    "name": "ipython",
    "version": 2
   },
   "file_extension": ".py",
   "mimetype": "text/x-python",
   "name": "python",
   "nbconvert_exporter": "python",
   "pygments_lexer": "ipython2",
   "version": "2.7.12"
  }
 },
 "nbformat": 4,
 "nbformat_minor": 1
}
